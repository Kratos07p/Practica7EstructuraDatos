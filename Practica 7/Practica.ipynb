{
 "cells": [
  {
   "cell_type": "code",
   "execution_count": null,
   "metadata": {},
   "outputs": [],
   "source": [
    "#Ejemplo 1 Excepcion\n",
    "try:\n",
    "    resultado = 10 / 0\n",
    "\n",
    "except ZeroDivisionError:\n",
    "    print(\"No se puede dividir entre 0\")"
   ]
  },
  {
   "cell_type": "code",
   "execution_count": null,
   "metadata": {},
   "outputs": [],
   "source": [
    "#Ejemplo 2 Excepciones Multiples\n",
    "try:\n",
    "    valor = int(input(\"Ingrese un numero: \"))\n",
    "    resultado = 10 / valor}\n",
    "\n",
    "except ValueError:\n",
    "    print(\"Error: Debe ingresar un numero valido dislexico de mrd\")\n",
    "    \n",
    "except ZeroDivisionError:\n",
    "    print(\"Error: No se puede dividir entre 0\")"
   ]
  },
  {
   "cell_type": "code",
   "execution_count": null,
   "metadata": {},
   "outputs": [],
   "source": [
    "#Ejemplo 3 Excepcion con el bloque else\n",
    "try:\n",
    "    valor = int(input(\"Ingrese un numero: \"))\n",
    "    resultado = 10 / valor\n",
    "\n",
    "except ValueError:\n",
    "    print(\"Error: Debe ingresar un numero valido dislexico de mrd\")\n",
    "    \n",
    "except ZeroDivisionError:\n",
    "    print(\"Error: No se puede dividir entre 0\")\n",
    "\n",
    "else:\n",
    "    print(f\"El resultado es: {resultado}\")"
   ]
  },
  {
   "cell_type": "code",
   "execution_count": null,
   "metadata": {},
   "outputs": [],
   "source": [
    "#Ejemplos 4 bloque Finally\n",
    "try:\n",
    "    a = int(input(\"Digite el primer numero: \"))\n",
    "    b = int(input(\"Digite el segundo numero: \"))\n",
    "    resultado = a / b\n",
    "\n",
    "except ZeroDivisionError:\n",
    "    print(\"Error: No se puede dividir entre 0\")\n",
    "\n",
    "else:\n",
    "    print(f\"El resultado es: {resultado}\")\n",
    "\n",
    "finally:\n",
    "    print(\"Operacion finalizada.\")"
   ]
  },
  {
   "cell_type": "code",
   "execution_count": null,
   "metadata": {},
   "outputs": [],
   "source": [
    "#Ejemplo 5 excepcion personalizadas\n",
    "def dividir(a,b):\n",
    "    if b == 0:\n",
    "        raise ValueError(\"No se puede dividir entre 0.\")\n",
    "    return a / b\n",
    "\n",
    "try:\n",
    "    resultado = dividir(10,0)\n",
    "\n",
    "except ValueError as e:\n",
    "    print(e)\n",
    "\n",
    "finally:\n",
    "    print(f\"El resultado es: {resultado}\")"
   ]
  },
  {
   "cell_type": "code",
   "execution_count": null,
   "metadata": {},
   "outputs": [],
   "source": [
    "#Ejercicio de la clase\n",
    "class CuentaBancaria:\n",
    "    def __init__(self, saldo):\n",
    "        self.saldo = saldo\n",
    "\n",
    "    def Retirar(self, cantidad):\n",
    "        if cantidad < 0:\n",
    "            raise ValueError(\"La cantidad a retirar no puede ser negativa.\")\n",
    "            \n",
    "        if cantidad > self.saldo:\n",
    "            raise ValueError(\"Saldo insuficiente para realizar el retiro.\")\n",
    "            \n",
    "        self.saldo -= cantidad\n",
    "        print(f\"Saldo retirado, actualmente su cuenta posee {self.saldo}\")\n",
    "\n",
    "cuenta = CuentaBancaria(1000)\n",
    "\n",
    "try:\n",
    "    cantidad_retirar = float(input(\"Digite la cantidad a retirar: \"))\n",
    "    cuenta.Retirar(cantidad_retirar)\n",
    "except ValueError as e:\n",
    "    print(e)\n"
   ]
  }
 ],
 "metadata": {
  "kernelspec": {
   "display_name": "Python 3",
   "language": "python",
   "name": "python3"
  },
  "language_info": {
   "codemirror_mode": {
    "name": "ipython",
    "version": 3
   },
   "file_extension": ".py",
   "mimetype": "text/x-python",
   "name": "python",
   "nbconvert_exporter": "python",
   "pygments_lexer": "ipython3",
   "version": "3.11.2"
  },
  "orig_nbformat": 4
 },
 "nbformat": 4,
 "nbformat_minor": 2
}
